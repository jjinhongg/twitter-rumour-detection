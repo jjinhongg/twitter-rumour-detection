{
 "metadata": {
  "language_info": {
   "codemirror_mode": {
    "name": "ipython",
    "version": 3
   },
   "file_extension": ".py",
   "mimetype": "text/x-python",
   "name": "python",
   "nbconvert_exporter": "python",
   "pygments_lexer": "ipython3",
   "version": "3.7.3"
  },
  "orig_nbformat": 2,
  "kernelspec": {
   "name": "python373jvsc74a57bd0192b2adcf89bab941b7e96bafb904814dc6d17ff788fb22c8b7040cb8680f0f5",
   "display_name": "Python 3.7.3 64-bit ('cs224w': conda)"
  },
  "metadata": {
   "interpreter": {
    "hash": "192b2adcf89bab941b7e96bafb904814dc6d17ff788fb22c8b7040cb8680f0f5"
   }
  }
 },
 "nbformat": 4,
 "nbformat_minor": 2,
 "cells": [
  {
   "source": [
    "# Preprocess Data"
   ],
   "cell_type": "markdown",
   "metadata": {}
  },
  {
   "cell_type": "code",
   "execution_count": 136,
   "metadata": {},
   "outputs": [],
   "source": [
    "import pandas as pd\n",
    "import json\n",
    "import functools\n",
    "import seaborn as sns\n",
    "import datetime\n",
    "import math\n",
    "import numpy as np\n",
    "import preprocessor as p"
   ]
  },
  {
   "cell_type": "code",
   "execution_count": 2,
   "metadata": {},
   "outputs": [],
   "source": [
    "data : pd.DataFrame = pd.read_json(\"./project_data/train.data.jsonl\", lines=True)"
   ]
  },
  {
   "cell_type": "code",
   "execution_count": 87,
   "metadata": {},
   "outputs": [],
   "source": [
    "def fn_extractTxt(series: pd.Series):\n",
    "    texts = []\n",
    "    for dictionary in series:\n",
    "        if dictionary is not None:\n",
    "            texts.append(dictionary.get(\"text\")\n",
    "        else:\n",
    "            texts.append(None)\n",
    "    return pd.Series(texts)\n",
    "\n",
    "\n",
    "def fn_sortTweetsChronological(series: pd.Series):\n",
    "    time_created_list = []\n",
    "    series_len = len(series)\n",
    "\n",
    "    for dictionary in series:\n",
    "        if dictionary is not None:\n",
    "            time_created_str = dictionary.get(\"created_at\")\n",
    "            time_created = datetime.datetime.strftime(datetime.datetime.strptime(time_created_str,'%a %b %d %H:%M:%S +0000 %Y'), '%Y-%m-%d %H:%M:%S')\n",
    "            time_created_list.append(time_created)\n",
    "    \n",
    "    ind_time_created_list_sorted = sorted(range(len(time_created_list)), key=lambda k: time_created_list[k])\n",
    "    new_series = series[ind_time_created_list_sorted]\n",
    "    return new_series\n",
    "\n",
    "\n",
    "def fn_concatTweet(series: pd.Series):\n",
    "    filtered_series = filter(None,series)\n",
    "    concatTweet = ''.join(filtered_series)\n",
    "    return concatTweet\n"
   ]
  },
  {
   "cell_type": "code",
   "execution_count": 71,
   "metadata": {},
   "outputs": [
    {
     "output_type": "execute_result",
     "data": {
      "text/plain": [
       "{'contributors': None,\n",
       " 'truncated': False,\n",
       " 'text': 'How to respond to the murderous attack on Charlie Hebdo? Every newspaper in the free world should print this. http://t.co/sC2ot63F6j',\n",
       " 'in_reply_to_status_id': None,\n",
       " 'id': 552800070199148544,\n",
       " 'favorite_count': 77,\n",
       " 'source': '<a href=\"http://www.apple.com\" rel=\"nofollow\">iOS</a>',\n",
       " 'retweeted': False,\n",
       " 'coordinates': None,\n",
       " 'entities': {'symbols': [],\n",
       "  'user_mentions': [],\n",
       "  'hashtags': [],\n",
       "  'urls': [],\n",
       "  'media': [{'expanded_url': 'http://twitter.com/Heresy_Corner/status/552800070199148544/photo/1',\n",
       "    'display_url': 'pic.twitter.com/sC2ot63F6j',\n",
       "    'url': 'http://t.co/sC2ot63F6j',\n",
       "    'media_url_https': 'https://pbs.twimg.com/media/B6vwvCVIQAASBJx.jpg',\n",
       "    'id_str': '552800070153027584',\n",
       "    'sizes': {'small': {'h': 408, 'resize': 'fit', 'w': 340},\n",
       "     'large': {'h': 472, 'resize': 'fit', 'w': 393},\n",
       "     'medium': {'h': 472, 'resize': 'fit', 'w': 393},\n",
       "     'thumb': {'h': 150, 'resize': 'crop', 'w': 150}},\n",
       "    'indices': [110, 132],\n",
       "    'type': 'photo',\n",
       "    'id': 552800070153027584,\n",
       "    'media_url': 'http://pbs.twimg.com/media/B6vwvCVIQAASBJx.jpg'}]},\n",
       " 'in_reply_to_screen_name': None,\n",
       " 'id_str': '552800070199148544',\n",
       " 'retweet_count': 228,\n",
       " 'in_reply_to_user_id': None,\n",
       " 'favorited': False,\n",
       " 'user': {'follow_request_sent': False,\n",
       "  'profile_use_background_image': True,\n",
       "  'profile_text_color': '0F0103',\n",
       "  'default_profile_image': False,\n",
       "  'id': 60296618,\n",
       "  'profile_background_image_url_https': 'https://pbs.twimg.com/profile_background_images/98945974/heresy-warhol.jpg',\n",
       "  'verified': False,\n",
       "  'profile_location': None,\n",
       "  'profile_image_url_https': 'https://pbs.twimg.com/profile_images/556109555990401025/rsRm-g4o_normal.jpeg',\n",
       "  'profile_sidebar_fill_color': 'BDFFDB',\n",
       "  'entities': {'url': {'urls': [{'url': 'http://t.co/3nF8nkFdkC',\n",
       "      'indices': [0, 22],\n",
       "      'expanded_url': 'http://heresycorner.blogspot.com',\n",
       "      'display_url': 'heresycorner.blogspot.com'}]},\n",
       "   'description': {'urls': []}},\n",
       "  'followers_count': 4144,\n",
       "  'profile_sidebar_border_color': 'D3D2CF',\n",
       "  'id_str': '60296618',\n",
       "  'profile_background_color': 'D6CBAB',\n",
       "  'listed_count': 185,\n",
       "  'is_translation_enabled': False,\n",
       "  'utc_offset': 0,\n",
       "  'statuses_count': 27923,\n",
       "  'description': 'Aka the Heresiarch; \\r\\nA sceptic, not a Skeptic',\n",
       "  'friends_count': 414,\n",
       "  'location': 'Cambridge',\n",
       "  'profile_link_color': '911F50',\n",
       "  'profile_image_url': 'http://pbs.twimg.com/profile_images/556109555990401025/rsRm-g4o_normal.jpeg',\n",
       "  'following': False,\n",
       "  'geo_enabled': False,\n",
       "  'profile_banner_url': 'https://pbs.twimg.com/profile_banners/60296618/1357129427',\n",
       "  'profile_background_image_url': 'http://pbs.twimg.com/profile_background_images/98945974/heresy-warhol.jpg',\n",
       "  'name': 'Nelson Jones',\n",
       "  'lang': 'en',\n",
       "  'profile_background_tile': True,\n",
       "  'favourites_count': 500,\n",
       "  'screen_name': 'Heresy_Corner',\n",
       "  'notifications': False,\n",
       "  'url': 'http://t.co/3nF8nkFdkC',\n",
       "  'created_at': 'Sun Jul 26 12:40:25 +0000 2009',\n",
       "  'contributors_enabled': False,\n",
       "  'time_zone': 'London',\n",
       "  'protected': False,\n",
       "  'default_profile': False,\n",
       "  'is_translator': False},\n",
       " 'geo': None,\n",
       " 'in_reply_to_user_id_str': None,\n",
       " 'possibly_sensitive': False,\n",
       " 'lang': 'en',\n",
       " 'created_at': 'Wed Jan 07 12:13:01 +0000 2015',\n",
       " 'in_reply_to_status_id_str': None,\n",
       " 'place': None,\n",
       " 'extended_entities': {'media': [{'expanded_url': 'http://twitter.com/Heresy_Corner/status/552800070199148544/photo/1',\n",
       "    'display_url': 'pic.twitter.com/sC2ot63F6j',\n",
       "    'url': 'http://t.co/sC2ot63F6j',\n",
       "    'media_url_https': 'https://pbs.twimg.com/media/B6vwvCVIQAASBJx.jpg',\n",
       "    'id_str': '552800070153027584',\n",
       "    'sizes': {'small': {'h': 408, 'resize': 'fit', 'w': 340},\n",
       "     'large': {'h': 472, 'resize': 'fit', 'w': 393},\n",
       "     'medium': {'h': 472, 'resize': 'fit', 'w': 393},\n",
       "     'thumb': {'h': 150, 'resize': 'crop', 'w': 150}},\n",
       "    'indices': [110, 132],\n",
       "    'type': 'photo',\n",
       "    'id': 552800070153027584,\n",
       "    'media_url': 'http://pbs.twimg.com/media/B6vwvCVIQAASBJx.jpg'}]}}"
      ]
     },
     "metadata": {},
     "execution_count": 71
    }
   ],
   "source": [
    "data.iloc[0,0]"
   ]
  },
  {
   "cell_type": "code",
   "execution_count": 134,
   "metadata": {
    "tags": []
   },
   "outputs": [],
   "source": [
    "data_sorted = data.apply(fn_sortTweetsChronological, axis=1)\n",
    "data_sorted = data_sorted.where(pd.notnull(data_sorted), None)\n",
    "sourceIds = list(map(lambda x: x.get(\"id_str\"), data_sorted.iloc[:,0]))"
   ]
  },
  {
   "cell_type": "code",
   "execution_count": 88,
   "metadata": {},
   "outputs": [],
   "source": [
    "text_df = data_sorted.apply(fn_extractTxt, axis=1)"
   ]
  },
  {
   "cell_type": "code",
   "execution_count": 91,
   "metadata": {},
   "outputs": [],
   "source": [
    "text_df_concatenate = pd.DataFrame(text_df.apply(fn_concatTweet, axis=1), columns=[\"text\"])\n",
    "text_df_concatenate[\"length\"] = text_df_concatenate.text.str.len()"
   ]
  },
  {
   "cell_type": "code",
   "execution_count": 92,
   "metadata": {},
   "outputs": [
    {
     "output_type": "execute_result",
     "data": {
      "text/plain": [
       "             length\n",
       "count   4641.000000\n",
       "mean    1677.638440\n",
       "std     2118.619686\n",
       "min       45.000000\n",
       "25%      600.000000\n",
       "50%     1255.000000\n",
       "75%     1985.000000\n",
       "max    38058.000000"
      ],
      "text/html": "<div>\n<style scoped>\n    .dataframe tbody tr th:only-of-type {\n        vertical-align: middle;\n    }\n\n    .dataframe tbody tr th {\n        vertical-align: top;\n    }\n\n    .dataframe thead th {\n        text-align: right;\n    }\n</style>\n<table border=\"1\" class=\"dataframe\">\n  <thead>\n    <tr style=\"text-align: right;\">\n      <th></th>\n      <th>length</th>\n    </tr>\n  </thead>\n  <tbody>\n    <tr>\n      <th>count</th>\n      <td>4641.000000</td>\n    </tr>\n    <tr>\n      <th>mean</th>\n      <td>1677.638440</td>\n    </tr>\n    <tr>\n      <th>std</th>\n      <td>2118.619686</td>\n    </tr>\n    <tr>\n      <th>min</th>\n      <td>45.000000</td>\n    </tr>\n    <tr>\n      <th>25%</th>\n      <td>600.000000</td>\n    </tr>\n    <tr>\n      <th>50%</th>\n      <td>1255.000000</td>\n    </tr>\n    <tr>\n      <th>75%</th>\n      <td>1985.000000</td>\n    </tr>\n    <tr>\n      <th>max</th>\n      <td>38058.000000</td>\n    </tr>\n  </tbody>\n</table>\n</div>"
     },
     "metadata": {},
     "execution_count": 92
    }
   ],
   "source": [
    "text_df_concatenate.describe()"
   ]
  },
  {
   "cell_type": "code",
   "execution_count": 112,
   "metadata": {},
   "outputs": [],
   "source": [
    "def clean_thread(series: pd.Series):\n",
    "    p.set_options(p.OPT.URL, p.OPT.EMOJI, p.OPT.SMILEY, p.OPT.NUMBER, p.OPT.MENTION)\n",
    "    cleaned_thread_list = []\n",
    "    for thread in series:\n",
    "\n",
    "        # Clean URL, EMOJI, SMILEY, NUMBER, MENTION\n",
    "        cleaned_thread_first = p.clean(thread)\n",
    "        cleaned_thread_list.append(cleaned_thread_first)\n",
    "    \n",
    "    return pd.Series(cleaned_thread_list)\n",
    "\n",
    "\n",
    "def truncate(series: pd.Series, max_sequence_length=1024):\n",
    "    truncated_thread_list = []\n",
    "    for thread in series:\n",
    "        if len(thread) > max_sequence_length:\n",
    "            truncated_thread_list.append(thread[:int(max_sequence_length/2)] + thread[:-int(max_sequence_length/2)])\n",
    "        else:\n",
    "            truncated_thread_list.append(thread)\n",
    "    \n",
    "    return truncated_thread_list"
   ]
  },
  {
   "cell_type": "code",
   "execution_count": 113,
   "metadata": {},
   "outputs": [],
   "source": [
    "text_df_concatenate_cleaned = pd.DataFrame(clean_thread(text_df_concatenate.text), columns=[\"text\"])"
   ]
  },
  {
   "cell_type": "code",
   "execution_count": 114,
   "metadata": {},
   "outputs": [],
   "source": [
    "text_concatenate_cleaned_final = truncate(text_df_concatenate_cleaned.text)"
   ]
  },
  {
   "cell_type": "code",
   "execution_count": 131,
   "metadata": {},
   "outputs": [],
   "source": [
    "with open(\"./project_data/train.label.json\") as f:\n",
    "    labels = json.load(f)"
   ]
  },
  {
   "cell_type": "code",
   "execution_count": 137,
   "metadata": {},
   "outputs": [],
   "source": [
    "corresponding_labels = [labels[id] for id in sourceIds]\n",
    "\n"
   ]
  },
  {
   "cell_type": "code",
   "execution_count": 147,
   "metadata": {},
   "outputs": [
    {
     "output_type": "execute_result",
     "data": {
      "text/plain": [
       "(4641, 2)"
      ]
     },
     "metadata": {},
     "execution_count": 147
    }
   ],
   "source": [
    "final_data = np.array([text_concatenate_cleaned_final,corresponding_labels]).T\n",
    "final_data.shape"
   ]
  }
 ]
}